{
 "cells": [
  {
   "cell_type": "code",
   "execution_count": 1,
   "metadata": {},
   "outputs": [
    {
     "data": {
      "text/html": [
       "    <style>\n",
       "        .bk-notebook-logo {\n",
       "            display: block;\n",
       "            width: 20px;\n",
       "            height: 20px;\n",
       "            background-image: url(data:image/png;base64,iVBORw0KGgoAAAANSUhEUgAAABQAAAAUCAYAAACNiR0NAAAABHNCSVQICAgIfAhkiAAAAAlwSFlzAAALEgAACxIB0t1+/AAAABx0RVh0U29mdHdhcmUAQWRvYmUgRmlyZXdvcmtzIENTNui8sowAAAOkSURBVDiNjZRtaJVlGMd/1/08zzln5zjP1LWcU9N0NkN8m2CYjpgQYQXqSs0I84OLIC0hkEKoPtiH3gmKoiJDU7QpLgoLjLIQCpEsNJ1vqUOdO7ppbuec5+V+rj4ctwzd8IIbbi6u+8f1539dt3A78eXC7QizUF7gyV1fD1Yqg4JWz84yffhm0qkFqBogB9rM8tZdtwVsPUhWhGcFJngGeWrPzHm5oaMmkfEg1usvLFyc8jLRqDOMru7AyC8saQr7GG7f5fvDeH7Ej8CM66nIF+8yngt6HWaKh7k49Soy9nXurCi1o3qUbS3zWfrYeQDTB/Qj6kX6Ybhw4B+bOYoLKCC9H3Nu/leUTZ1JdRWkkn2ldcCamzrcf47KKXdAJllSlxAOkRgyHsGC/zRday5Qld9DyoM4/q/rUoy/CXh3jzOu3bHUVZeU+DEn8FInkPBFlu3+nW3Nw0mk6vCDiWg8CeJaxEwuHS3+z5RgY+YBR6V1Z1nxSOfoaPa4LASWxxdNp+VWTk7+4vzaou8v8PN+xo+KY2xsw6une2frhw05CTYOmQvsEhjhWjn0bmXPjpE1+kplmmkP3suftwTubK9Vq22qKmrBhpY4jvd5afdRA3wGjFAgcnTK2s4hY0/GPNIb0nErGMCRxWOOX64Z8RAC4oCXdklmEvcL8o0BfkNK4lUg9HTl+oPlQxdNo3Mg4Nv175e/1LDGzZen30MEjRUtmXSfiTVu1kK8W4txyV6BMKlbgk3lMwYCiusNy9fVfvvwMxv8Ynl6vxoByANLTWplvuj/nF9m2+PDtt1eiHPBr1oIfhCChQMBw6Aw0UulqTKZdfVvfG7VcfIqLG9bcldL/+pdWTLxLUy8Qq38heUIjh4XlzZxzQm19lLFlr8vdQ97rjZVOLf8nclzckbcD4wxXMidpX30sFd37Fv/GtwwhzhxGVAprjbg0gCAEeIgwCZyTV2Z1REEW8O4py0wsjeloKoMr6iCY6dP92H6Vw/oTyICIthibxjm/DfN9lVz8IqtqKYLUXfoKVMVQVVJOElGjrnnUt9T9wbgp8AyYKaGlqingHZU/uG2NTZSVqwHQTWkx9hxjkpWDaCg6Ckj5qebgBVbT3V3NNXMSiWSDdGV3hrtzla7J+duwPOToIg42ChPQOQjspnSlp1V+Gjdged7+8UN5CRAV7a5EdFNwCjEaBR27b3W890TE7g24NAP/mMDXRWrGoFPQI9ls/MWO2dWFAar/xcOIImbbpA3zgAAAABJRU5ErkJggg==);\n",
       "        }\n",
       "    </style>\n",
       "    <div>\n",
       "        <a href=\"https://bokeh.org\" target=\"_blank\" class=\"bk-notebook-logo\"></a>\n",
       "        <span id=\"f874ff2f-849b-4c22-b177-893cd8070868\">Loading BokehJS ...</span>\n",
       "    </div>\n"
      ]
     },
     "metadata": {},
     "output_type": "display_data"
    },
    {
     "data": {
      "application/javascript": "'use strict';\n(function(root) {\n  function now() {\n    return new Date();\n  }\n\n  const force = true;\n\n  if (typeof root._bokeh_onload_callbacks === \"undefined\" || force === true) {\n    root._bokeh_onload_callbacks = [];\n    root._bokeh_is_loading = undefined;\n  }\n\nconst JS_MIME_TYPE = 'application/javascript';\n  const HTML_MIME_TYPE = 'text/html';\n  const EXEC_MIME_TYPE = 'application/vnd.bokehjs_exec.v0+json';\n  const CLASS_NAME = 'output_bokeh rendered_html';\n\n  /**\n   * Render data to the DOM node\n   */\n  function render(props, node) {\n    const script = document.createElement(\"script\");\n    node.appendChild(script);\n  }\n\n  /**\n   * Handle when an output is cleared or removed\n   */\n  function handleClearOutput(event, handle) {\n    function drop(id) {\n      const view = Bokeh.index.get_by_id(id)\n      if (view != null) {\n        view.model.document.clear()\n        Bokeh.index.delete(view)\n      }\n    }\n\n    const cell = handle.cell;\n\n    const id = cell.output_area._bokeh_element_id;\n    const server_id = cell.output_area._bokeh_server_id;\n\n    // Clean up Bokeh references\n    if (id != null) {\n      drop(id)\n    }\n\n    if (server_id !== undefined) {\n      // Clean up Bokeh references\n      const cmd_clean = \"from bokeh.io.state import curstate; print(curstate().uuid_to_server['\" + server_id + \"'].get_sessions()[0].document.roots[0]._id)\";\n      cell.notebook.kernel.execute(cmd_clean, {\n        iopub: {\n          output: function(msg) {\n            const id = msg.content.text.trim()\n            drop(id)\n          }\n        }\n      });\n      // Destroy server and session\n      const cmd_destroy = \"import bokeh.io.notebook as ion; ion.destroy_server('\" + server_id + \"')\";\n      cell.notebook.kernel.execute(cmd_destroy);\n    }\n  }\n\n  /**\n   * Handle when a new output is added\n   */\n  function handleAddOutput(event, handle) {\n    const output_area = handle.output_area;\n    const output = handle.output;\n\n    // limit handleAddOutput to display_data with EXEC_MIME_TYPE content only\n    if ((output.output_type != \"display_data\") || (!Object.prototype.hasOwnProperty.call(output.data, EXEC_MIME_TYPE))) {\n      return\n    }\n\n    const toinsert = output_area.element.find(\".\" + CLASS_NAME.split(' ')[0]);\n\n    if (output.metadata[EXEC_MIME_TYPE][\"id\"] !== undefined) {\n      toinsert[toinsert.length - 1].firstChild.textContent = output.data[JS_MIME_TYPE];\n      // store reference to embed id on output_area\n      output_area._bokeh_element_id = output.metadata[EXEC_MIME_TYPE][\"id\"];\n    }\n    if (output.metadata[EXEC_MIME_TYPE][\"server_id\"] !== undefined) {\n      const bk_div = document.createElement(\"div\");\n      bk_div.innerHTML = output.data[HTML_MIME_TYPE];\n      const script_attrs = bk_div.children[0].attributes;\n      for (let i = 0; i < script_attrs.length; i++) {\n        toinsert[toinsert.length - 1].firstChild.setAttribute(script_attrs[i].name, script_attrs[i].value);\n        toinsert[toinsert.length - 1].firstChild.textContent = bk_div.children[0].textContent\n      }\n      // store reference to server id on output_area\n      output_area._bokeh_server_id = output.metadata[EXEC_MIME_TYPE][\"server_id\"];\n    }\n  }\n\n  function register_renderer(events, OutputArea) {\n\n    function append_mime(data, metadata, element) {\n      // create a DOM node to render to\n      const toinsert = this.create_output_subarea(\n        metadata,\n        CLASS_NAME,\n        EXEC_MIME_TYPE\n      );\n      this.keyboard_manager.register_events(toinsert);\n      // Render to node\n      const props = {data: data, metadata: metadata[EXEC_MIME_TYPE]};\n      render(props, toinsert[toinsert.length - 1]);\n      element.append(toinsert);\n      return toinsert\n    }\n\n    /* Handle when an output is cleared or removed */\n    events.on('clear_output.CodeCell', handleClearOutput);\n    events.on('delete.Cell', handleClearOutput);\n\n    /* Handle when a new output is added */\n    events.on('output_added.OutputArea', handleAddOutput);\n\n    /**\n     * Register the mime type and append_mime function with output_area\n     */\n    OutputArea.prototype.register_mime_type(EXEC_MIME_TYPE, append_mime, {\n      /* Is output safe? */\n      safe: true,\n      /* Index of renderer in `output_area.display_order` */\n      index: 0\n    });\n  }\n\n  // register the mime type if in Jupyter Notebook environment and previously unregistered\n  if (root.Jupyter !== undefined) {\n    const events = require('base/js/events');\n    const OutputArea = require('notebook/js/outputarea').OutputArea;\n\n    if (OutputArea.prototype.mime_types().indexOf(EXEC_MIME_TYPE) == -1) {\n      register_renderer(events, OutputArea);\n    }\n  }\n  if (typeof (root._bokeh_timeout) === \"undefined\" || force === true) {\n    root._bokeh_timeout = Date.now() + 5000;\n    root._bokeh_failed_load = false;\n  }\n\n  const NB_LOAD_WARNING = {'data': {'text/html':\n     \"<div style='background-color: #fdd'>\\n\"+\n     \"<p>\\n\"+\n     \"BokehJS does not appear to have successfully loaded. If loading BokehJS from CDN, this \\n\"+\n     \"may be due to a slow or bad network connection. Possible fixes:\\n\"+\n     \"</p>\\n\"+\n     \"<ul>\\n\"+\n     \"<li>re-rerun `output_notebook()` to attempt to load from CDN again, or</li>\\n\"+\n     \"<li>use INLINE resources instead, as so:</li>\\n\"+\n     \"</ul>\\n\"+\n     \"<code>\\n\"+\n     \"from bokeh.resources import INLINE\\n\"+\n     \"output_notebook(resources=INLINE)\\n\"+\n     \"</code>\\n\"+\n     \"</div>\"}};\n\n  function display_loaded(error = null) {\n    const el = document.getElementById(\"f874ff2f-849b-4c22-b177-893cd8070868\");\n    if (el != null) {\n      const html = (() => {\n        if (typeof root.Bokeh === \"undefined\") {\n          if (error == null) {\n            return \"BokehJS is loading ...\";\n          } else {\n            return \"BokehJS failed to load.\";\n          }\n        } else {\n          const prefix = `BokehJS ${root.Bokeh.version}`;\n          if (error == null) {\n            return `${prefix} successfully loaded.`;\n          } else {\n            return `${prefix} <b>encountered errors</b> while loading and may not function as expected.`;\n          }\n        }\n      })();\n      el.innerHTML = html;\n\n      if (error != null) {\n        const wrapper = document.createElement(\"div\");\n        wrapper.style.overflow = \"auto\";\n        wrapper.style.height = \"5em\";\n        wrapper.style.resize = \"vertical\";\n        const content = document.createElement(\"div\");\n        content.style.fontFamily = \"monospace\";\n        content.style.whiteSpace = \"pre-wrap\";\n        content.style.backgroundColor = \"rgb(255, 221, 221)\";\n        content.textContent = error.stack ?? error.toString();\n        wrapper.append(content);\n        el.append(wrapper);\n      }\n    } else if (Date.now() < root._bokeh_timeout) {\n      setTimeout(() => display_loaded(error), 100);\n    }\n  }\n\n  function run_callbacks() {\n    try {\n      root._bokeh_onload_callbacks.forEach(function(callback) {\n        if (callback != null)\n          callback();\n      });\n    } finally {\n      delete root._bokeh_onload_callbacks\n    }\n    console.debug(\"Bokeh: all callbacks have finished\");\n  }\n\n  function load_libs(css_urls, js_urls, callback) {\n    if (css_urls == null) css_urls = [];\n    if (js_urls == null) js_urls = [];\n\n    root._bokeh_onload_callbacks.push(callback);\n    if (root._bokeh_is_loading > 0) {\n      console.debug(\"Bokeh: BokehJS is being loaded, scheduling callback at\", now());\n      return null;\n    }\n    if (js_urls == null || js_urls.length === 0) {\n      run_callbacks();\n      return null;\n    }\n    console.debug(\"Bokeh: BokehJS not loaded, scheduling load and callback at\", now());\n    root._bokeh_is_loading = css_urls.length + js_urls.length;\n\n    function on_load() {\n      root._bokeh_is_loading--;\n      if (root._bokeh_is_loading === 0) {\n        console.debug(\"Bokeh: all BokehJS libraries/stylesheets loaded\");\n        run_callbacks()\n      }\n    }\n\n    function on_error(url) {\n      console.error(\"failed to load \" + url);\n    }\n\n    for (let i = 0; i < css_urls.length; i++) {\n      const url = css_urls[i];\n      const element = document.createElement(\"link\");\n      element.onload = on_load;\n      element.onerror = on_error.bind(null, url);\n      element.rel = \"stylesheet\";\n      element.type = \"text/css\";\n      element.href = url;\n      console.debug(\"Bokeh: injecting link tag for BokehJS stylesheet: \", url);\n      document.body.appendChild(element);\n    }\n\n    for (let i = 0; i < js_urls.length; i++) {\n      const url = js_urls[i];\n      const element = document.createElement('script');\n      element.onload = on_load;\n      element.onerror = on_error.bind(null, url);\n      element.async = false;\n      element.src = url;\n      console.debug(\"Bokeh: injecting script tag for BokehJS library: \", url);\n      document.head.appendChild(element);\n    }\n  };\n\n  function inject_raw_css(css) {\n    const element = document.createElement(\"style\");\n    element.appendChild(document.createTextNode(css));\n    document.body.appendChild(element);\n  }\n\n  const js_urls = [\"https://cdn.bokeh.org/bokeh/release/bokeh-3.5.1.min.js\", \"https://cdn.bokeh.org/bokeh/release/bokeh-gl-3.5.1.min.js\", \"https://cdn.bokeh.org/bokeh/release/bokeh-widgets-3.5.1.min.js\", \"https://cdn.bokeh.org/bokeh/release/bokeh-tables-3.5.1.min.js\", \"https://cdn.bokeh.org/bokeh/release/bokeh-mathjax-3.5.1.min.js\"];\n  const css_urls = [];\n\n  const inline_js = [    function(Bokeh) {\n      Bokeh.set_log_level(\"info\");\n    },\nfunction(Bokeh) {\n    }\n  ];\n\n  function run_inline_js() {\n    if (root.Bokeh !== undefined || force === true) {\n      try {\n            for (let i = 0; i < inline_js.length; i++) {\n      inline_js[i].call(root, root.Bokeh);\n    }\n\n      } catch (error) {display_loaded(error);throw error;\n      }if (force === true) {\n        display_loaded();\n      }} else if (Date.now() < root._bokeh_timeout) {\n      setTimeout(run_inline_js, 100);\n    } else if (!root._bokeh_failed_load) {\n      console.log(\"Bokeh: BokehJS failed to load within specified timeout.\");\n      root._bokeh_failed_load = true;\n    } else if (force !== true) {\n      const cell = $(document.getElementById(\"f874ff2f-849b-4c22-b177-893cd8070868\")).parents('.cell').data().cell;\n      cell.output_area.append_execute_result(NB_LOAD_WARNING)\n    }\n  }\n\n  if (root._bokeh_is_loading === 0) {\n    console.debug(\"Bokeh: BokehJS loaded, going straight to plotting\");\n    run_inline_js();\n  } else {\n    load_libs(css_urls, js_urls, function() {\n      console.debug(\"Bokeh: BokehJS plotting callback run at\", now());\n      run_inline_js();\n    });\n  }\n}(window));",
      "application/vnd.bokehjs_load.v0+json": ""
     },
     "metadata": {},
     "output_type": "display_data"
    }
   ],
   "source": [
    "import pandas as pd\n",
    "import numpy as np\n",
    "import pyarrow as pa\n",
    "import pyarrow.parquet as pq\n",
    "\n",
    "import numpy.linalg as la\n",
    "import scipy as sp \n",
    "\n",
    "import matplotlib.pyplot as plt\n",
    "import seaborn as sns\n",
    "\n",
    "from bokeh.plotting import figure, show\n",
    "from bokeh.models import Band, BoxAnnotation, ColumnDataSource, VBar, Span, Legend\n",
    "from bokeh.io import output_notebook\n",
    "from bokeh.palettes import Category10\n",
    "output_notebook()"
   ]
  },
  {
   "cell_type": "markdown",
   "metadata": {},
   "source": [
    "# Matrix experiments on interpretability\n",
    "\n",
    "Versioned from \"transform_matrix.ipynb\n",
    "\n",
    "JMA 19 AUg 2024"
   ]
  },
  {
   "cell_type": "code",
   "execution_count": 2,
   "metadata": {},
   "outputs": [
    {
     "data": {
      "text/html": [
       "<div>\n",
       "<style scoped>\n",
       "    .dataframe tbody tr th:only-of-type {\n",
       "        vertical-align: middle;\n",
       "    }\n",
       "\n",
       "    .dataframe tbody tr th {\n",
       "        vertical-align: top;\n",
       "    }\n",
       "\n",
       "    .dataframe thead th {\n",
       "        text-align: right;\n",
       "    }\n",
       "</style>\n",
       "<table border=\"1\" class=\"dataframe\">\n",
       "  <thead>\n",
       "    <tr style=\"text-align: right;\">\n",
       "      <th></th>\n",
       "      <th>name</th>\n",
       "      <th>target</th>\n",
       "      <th>intercept</th>\n",
       "      <th>beta_scaling_factor</th>\n",
       "      <th>beta_unit_vector</th>\n",
       "      <th>model_xval_auc</th>\n",
       "      <th>descriptor_id</th>\n",
       "    </tr>\n",
       "  </thead>\n",
       "  <tbody>\n",
       "    <tr>\n",
       "      <th>0</th>\n",
       "      <td>Humans</td>\n",
       "      <td>D006801</td>\n",
       "      <td>2.691081</td>\n",
       "      <td>21.267867</td>\n",
       "      <td>[0.017268219613741725, -0.01062624505004475, -...</td>\n",
       "      <td>0.911437</td>\n",
       "      <td>D006801</td>\n",
       "    </tr>\n",
       "    <tr>\n",
       "      <th>1</th>\n",
       "      <td>Female</td>\n",
       "      <td>D005260</td>\n",
       "      <td>0.572347</td>\n",
       "      <td>8.489115</td>\n",
       "      <td>[-0.008675035508034886, 0.004081205739551541, ...</td>\n",
       "      <td>0.767340</td>\n",
       "      <td>D005260</td>\n",
       "    </tr>\n",
       "    <tr>\n",
       "      <th>2</th>\n",
       "      <td>Male</td>\n",
       "      <td>D008297</td>\n",
       "      <td>0.405352</td>\n",
       "      <td>8.966750</td>\n",
       "      <td>[0.0035645856617138984, -0.03874317638897351, ...</td>\n",
       "      <td>0.759039</td>\n",
       "      <td>D008297</td>\n",
       "    </tr>\n",
       "    <tr>\n",
       "      <th>3</th>\n",
       "      <td>Animals</td>\n",
       "      <td>D000818</td>\n",
       "      <td>-1.375631</td>\n",
       "      <td>23.026027</td>\n",
       "      <td>[0.025583062634139626, 0.03199666405386238, 0....</td>\n",
       "      <td>0.945004</td>\n",
       "      <td>D000818</td>\n",
       "    </tr>\n",
       "    <tr>\n",
       "      <th>4</th>\n",
       "      <td>Adult</td>\n",
       "      <td>D000328</td>\n",
       "      <td>-0.445872</td>\n",
       "      <td>9.237172</td>\n",
       "      <td>[0.0039388731307771225, 0.0067770643253572795,...</td>\n",
       "      <td>0.763687</td>\n",
       "      <td>D000328</td>\n",
       "    </tr>\n",
       "  </tbody>\n",
       "</table>\n",
       "</div>"
      ],
      "text/plain": [
       "      name   target  intercept  beta_scaling_factor  \\\n",
       "0   Humans  D006801   2.691081            21.267867   \n",
       "1   Female  D005260   0.572347             8.489115   \n",
       "2     Male  D008297   0.405352             8.966750   \n",
       "3  Animals  D000818  -1.375631            23.026027   \n",
       "4    Adult  D000328  -0.445872             9.237172   \n",
       "\n",
       "                                    beta_unit_vector  model_xval_auc  \\\n",
       "0  [0.017268219613741725, -0.01062624505004475, -...        0.911437   \n",
       "1  [-0.008675035508034886, 0.004081205739551541, ...        0.767340   \n",
       "2  [0.0035645856617138984, -0.03874317638897351, ...        0.759039   \n",
       "3  [0.025583062634139626, 0.03199666405386238, 0....        0.945004   \n",
       "4  [0.0039388731307771225, 0.0067770643253572795,...        0.763687   \n",
       "\n",
       "  descriptor_id  \n",
       "0       D006801  \n",
       "1       D005260  \n",
       "2       D008297  \n",
       "3       D000818  \n",
       "4       D000328  "
      ]
     },
     "execution_count": 2,
     "metadata": {},
     "output_type": "execute_result"
    }
   ],
   "source": [
    "\n",
    "# File dependencies:\n",
    "model_data = pd.read_parquet(\"../understanding_classifiers/model_data_top_1k_descriptors.parquet\").reset_index()\n",
    "model_data.head()"
   ]
  },
  {
   "cell_type": "markdown",
   "metadata": {},
   "source": [
    "## The coefficient vectors create the transform matrix from the semantic embedding space to the the interpretable concept space\n",
    "\n",
    "Each row is one coefficient vector, for one of the label-terms, e.g. MeSH terms, that occupy the semantic embedding space. \n",
    "\n",
    "Stacking coefficient vectors in a matrix forms a transform from the embedding space to the concept space, whose dimensions are labeled by the label-terms. z"
   ]
  },
  {
   "cell_type": "code",
   "execution_count": 3,
   "metadata": {},
   "outputs": [
    {
     "data": {
      "text/plain": [
       "'output dimension: 1000, input dimension: 768'"
      ]
     },
     "execution_count": 3,
     "metadata": {},
     "output_type": "execute_result"
    }
   ],
   "source": [
    "# Extract the vector field and expand it to multiple rows. \n",
    "concept_transforms = np.vstack((model_data.beta_unit_vector).map(lambda x: np.asarray(x)))\n",
    "transform_names= model_data.name\n",
    "row_count, column_count = concept_transforms.shape\n",
    "f'output dimension: {row_count}, input dimension: {column_count}'"
   ]
  },
  {
   "cell_type": "code",
   "execution_count": 4,
   "metadata": {},
   "outputs": [
    {
     "data": {
      "text/plain": [
       "((1000, 768), 768, (768, 768))"
      ]
     },
     "execution_count": 4,
     "metadata": {},
     "output_type": "execute_result"
    }
   ],
   "source": [
    "# Both the numpy version and the scipy version return the same results. \n",
    "\n",
    "\n",
    "u,s, vh = la.svd(concept_transforms, full_matrices=False)\n",
    "u.shape, len(s), vh.shape\n"
   ]
  },
  {
   "cell_type": "code",
   "execution_count": 5,
   "metadata": {},
   "outputs": [
    {
     "data": {
      "text/html": [
       "<div>\n",
       "<style scoped>\n",
       "    .dataframe tbody tr th:only-of-type {\n",
       "        vertical-align: middle;\n",
       "    }\n",
       "\n",
       "    .dataframe tbody tr th {\n",
       "        vertical-align: top;\n",
       "    }\n",
       "\n",
       "    .dataframe thead th {\n",
       "        text-align: right;\n",
       "    }\n",
       "</style>\n",
       "<table border=\"1\" class=\"dataframe\">\n",
       "  <thead>\n",
       "    <tr style=\"text-align: right;\">\n",
       "      <th></th>\n",
       "      <th>0</th>\n",
       "      <th>1</th>\n",
       "      <th>2</th>\n",
       "      <th>3</th>\n",
       "      <th>4</th>\n",
       "      <th>5</th>\n",
       "      <th>6</th>\n",
       "      <th>7</th>\n",
       "      <th>8</th>\n",
       "      <th>9</th>\n",
       "      <th>...</th>\n",
       "      <th>758</th>\n",
       "      <th>759</th>\n",
       "      <th>760</th>\n",
       "      <th>761</th>\n",
       "      <th>762</th>\n",
       "      <th>763</th>\n",
       "      <th>764</th>\n",
       "      <th>765</th>\n",
       "      <th>766</th>\n",
       "      <th>767</th>\n",
       "    </tr>\n",
       "    <tr>\n",
       "      <th>name</th>\n",
       "      <th></th>\n",
       "      <th></th>\n",
       "      <th></th>\n",
       "      <th></th>\n",
       "      <th></th>\n",
       "      <th></th>\n",
       "      <th></th>\n",
       "      <th></th>\n",
       "      <th></th>\n",
       "      <th></th>\n",
       "      <th></th>\n",
       "      <th></th>\n",
       "      <th></th>\n",
       "      <th></th>\n",
       "      <th></th>\n",
       "      <th></th>\n",
       "      <th></th>\n",
       "      <th></th>\n",
       "      <th></th>\n",
       "      <th></th>\n",
       "      <th></th>\n",
       "    </tr>\n",
       "  </thead>\n",
       "  <tbody>\n",
       "    <tr>\n",
       "      <th>Humans</th>\n",
       "      <td>-0.052650</td>\n",
       "      <td>-0.021678</td>\n",
       "      <td>0.053388</td>\n",
       "      <td>0.020011</td>\n",
       "      <td>0.037313</td>\n",
       "      <td>0.000577</td>\n",
       "      <td>0.012473</td>\n",
       "      <td>0.044893</td>\n",
       "      <td>-0.003251</td>\n",
       "      <td>0.000484</td>\n",
       "      <td>...</td>\n",
       "      <td>-0.032495</td>\n",
       "      <td>0.068274</td>\n",
       "      <td>0.008440</td>\n",
       "      <td>-0.039427</td>\n",
       "      <td>-0.021804</td>\n",
       "      <td>-0.014797</td>\n",
       "      <td>0.007288</td>\n",
       "      <td>-0.008511</td>\n",
       "      <td>0.001061</td>\n",
       "      <td>-0.017222</td>\n",
       "    </tr>\n",
       "    <tr>\n",
       "      <th>Female</th>\n",
       "      <td>-0.060258</td>\n",
       "      <td>-0.038184</td>\n",
       "      <td>0.030440</td>\n",
       "      <td>0.031408</td>\n",
       "      <td>0.003135</td>\n",
       "      <td>0.020829</td>\n",
       "      <td>0.001572</td>\n",
       "      <td>0.023175</td>\n",
       "      <td>-0.012600</td>\n",
       "      <td>0.025587</td>\n",
       "      <td>...</td>\n",
       "      <td>0.001488</td>\n",
       "      <td>-0.013078</td>\n",
       "      <td>0.015550</td>\n",
       "      <td>-0.012815</td>\n",
       "      <td>0.026272</td>\n",
       "      <td>-0.047320</td>\n",
       "      <td>-0.036020</td>\n",
       "      <td>-0.050945</td>\n",
       "      <td>-0.002014</td>\n",
       "      <td>0.023693</td>\n",
       "    </tr>\n",
       "    <tr>\n",
       "      <th>Male</th>\n",
       "      <td>-0.039802</td>\n",
       "      <td>-0.043061</td>\n",
       "      <td>-0.001899</td>\n",
       "      <td>0.028714</td>\n",
       "      <td>-0.016116</td>\n",
       "      <td>0.004374</td>\n",
       "      <td>-0.005720</td>\n",
       "      <td>0.061326</td>\n",
       "      <td>-0.051550</td>\n",
       "      <td>0.024847</td>\n",
       "      <td>...</td>\n",
       "      <td>0.010381</td>\n",
       "      <td>0.071626</td>\n",
       "      <td>-0.004619</td>\n",
       "      <td>-0.002464</td>\n",
       "      <td>0.011473</td>\n",
       "      <td>0.039160</td>\n",
       "      <td>0.037762</td>\n",
       "      <td>0.036840</td>\n",
       "      <td>-0.020368</td>\n",
       "      <td>-0.031244</td>\n",
       "    </tr>\n",
       "    <tr>\n",
       "      <th>Animals</th>\n",
       "      <td>0.066046</td>\n",
       "      <td>0.026274</td>\n",
       "      <td>-0.034563</td>\n",
       "      <td>-0.030598</td>\n",
       "      <td>-0.008184</td>\n",
       "      <td>-0.002377</td>\n",
       "      <td>-0.017518</td>\n",
       "      <td>-0.057648</td>\n",
       "      <td>-0.000521</td>\n",
       "      <td>0.021073</td>\n",
       "      <td>...</td>\n",
       "      <td>0.025499</td>\n",
       "      <td>0.061632</td>\n",
       "      <td>0.071666</td>\n",
       "      <td>-0.014095</td>\n",
       "      <td>-0.017371</td>\n",
       "      <td>-0.033349</td>\n",
       "      <td>-0.027507</td>\n",
       "      <td>0.039577</td>\n",
       "      <td>0.037826</td>\n",
       "      <td>0.066013</td>\n",
       "    </tr>\n",
       "    <tr>\n",
       "      <th>Adult</th>\n",
       "      <td>-0.058607</td>\n",
       "      <td>-0.020626</td>\n",
       "      <td>0.036488</td>\n",
       "      <td>0.015864</td>\n",
       "      <td>-0.009581</td>\n",
       "      <td>-0.003604</td>\n",
       "      <td>-0.001819</td>\n",
       "      <td>0.012720</td>\n",
       "      <td>0.005415</td>\n",
       "      <td>-0.007565</td>\n",
       "      <td>...</td>\n",
       "      <td>0.006642</td>\n",
       "      <td>0.021043</td>\n",
       "      <td>-0.011107</td>\n",
       "      <td>0.027994</td>\n",
       "      <td>-0.063752</td>\n",
       "      <td>0.015039</td>\n",
       "      <td>-0.046780</td>\n",
       "      <td>-0.021869</td>\n",
       "      <td>-0.011935</td>\n",
       "      <td>0.008724</td>\n",
       "    </tr>\n",
       "  </tbody>\n",
       "</table>\n",
       "<p>5 rows × 768 columns</p>\n",
       "</div>"
      ],
      "text/plain": [
       "              0         1         2         3         4         5         6    \\\n",
       "name                                                                            \n",
       "Humans  -0.052650 -0.021678  0.053388  0.020011  0.037313  0.000577  0.012473   \n",
       "Female  -0.060258 -0.038184  0.030440  0.031408  0.003135  0.020829  0.001572   \n",
       "Male    -0.039802 -0.043061 -0.001899  0.028714 -0.016116  0.004374 -0.005720   \n",
       "Animals  0.066046  0.026274 -0.034563 -0.030598 -0.008184 -0.002377 -0.017518   \n",
       "Adult   -0.058607 -0.020626  0.036488  0.015864 -0.009581 -0.003604 -0.001819   \n",
       "\n",
       "              7         8         9    ...       758       759       760  \\\n",
       "name                                   ...                                 \n",
       "Humans   0.044893 -0.003251  0.000484  ... -0.032495  0.068274  0.008440   \n",
       "Female   0.023175 -0.012600  0.025587  ...  0.001488 -0.013078  0.015550   \n",
       "Male     0.061326 -0.051550  0.024847  ...  0.010381  0.071626 -0.004619   \n",
       "Animals -0.057648 -0.000521  0.021073  ...  0.025499  0.061632  0.071666   \n",
       "Adult    0.012720  0.005415 -0.007565  ...  0.006642  0.021043 -0.011107   \n",
       "\n",
       "              761       762       763       764       765       766       767  \n",
       "name                                                                           \n",
       "Humans  -0.039427 -0.021804 -0.014797  0.007288 -0.008511  0.001061 -0.017222  \n",
       "Female  -0.012815  0.026272 -0.047320 -0.036020 -0.050945 -0.002014  0.023693  \n",
       "Male    -0.002464  0.011473  0.039160  0.037762  0.036840 -0.020368 -0.031244  \n",
       "Animals -0.014095 -0.017371 -0.033349 -0.027507  0.039577  0.037826  0.066013  \n",
       "Adult    0.027994 -0.063752  0.015039 -0.046780 -0.021869 -0.011935  0.008724  \n",
       "\n",
       "[5 rows x 768 columns]"
      ]
     },
     "execution_count": 5,
     "metadata": {},
     "output_type": "execute_result"
    }
   ],
   "source": [
    "u_df = pd.DataFrame(u).set_index(transform_names)\n",
    "u_df.head()"
   ]
  },
  {
   "cell_type": "code",
   "execution_count": 6,
   "metadata": {},
   "outputs": [
    {
     "data": {
      "text/plain": [
       "Text(0.5, 1.0, 'singular values magnitudes versus rank.')"
      ]
     },
     "execution_count": 6,
     "metadata": {},
     "output_type": "execute_result"
    },
    {
     "data": {
      "image/png": "[encoded data removed]",
      "text/plain": [
       "<Figure size 640x480 with 1 Axes>"
      ]
     },
     "metadata": {},
     "output_type": "display_data"
    }
   ],
   "source": [
    "plt.plot(s)\n",
    "plt.title('singular values magnitudes versus rank.')\n"
   ]
  },
  {
   "cell_type": "code",
   "execution_count": 7,
   "metadata": {},
   "outputs": [
    {
     "data": {
      "text/plain": [
       "(np.True_, np.True_)"
      ]
     },
     "execution_count": 7,
     "metadata": {},
     "output_type": "execute_result"
    }
   ],
   "source": [
    "# Check u for unit lengths along both axes.\n",
    "np.any(np.apply_along_axis(la.norm, 0, u) - 1.0 < 1e4), np.any(np.apply_along_axis(la.norm, 1, u) - 1.0 < 1e4)\n"
   ]
  },
  {
   "cell_type": "code",
   "execution_count": 8,
   "metadata": {},
   "outputs": [
    {
     "data": {
      "text/plain": [
       "(np.True_, np.True_)"
      ]
     },
     "execution_count": 8,
     "metadata": {},
     "output_type": "execute_result"
    }
   ],
   "source": [
    "# Check v for unit lengths along both axes. \n",
    "np.any(np.apply_along_axis(la.norm, 0, vh) - 1.0 < 1e4), np.any(np.apply_along_axis(la.norm, 1, vh.T) - 1.0 < 1e4)"
   ]
  },
  {
   "cell_type": "markdown",
   "metadata": {},
   "source": [
    "# Consider each column of U as a \"concept\" and see with which MeSH terms its associated\n",
    " \n",
    "Each column is the result of setting just one non-zero S matrix entry == one orthogonal component in concept space. \n",
    "\n",
    "Another approach is simply to compute the PCA of the U matrix -- but since it's orthogonal we may already have that. "
   ]
  },
  {
   "cell_type": "markdown",
   "metadata": {},
   "source": [
    "## Prominent concepts in individual singular value \"spaces\"\n",
    "\n",
    "Each singular value corresponds to one component in the orthogonal space that is common to both the input and output space.  This is an attempt to associate semantic labels from the concept space (the \"MeSH\" terms) with individual components.  The challenge is that the mapping from the component space (where the singular values live) to the concept space is dense, so each concept has some contributions to any given component.\n",
    "\n",
    "The first component can be interpreted as \"all encompassing\", meaning it tries to capture as much as possible for the entire set of concepts. This \"bland\" component is colored by the bias of the entire set.  It is representative of the set. \n",
    "\n",
    "Subsequent components are orthogonal, and \"peel off\" more specific concepts.  We investigate them by listing the most positive and negative coefficients when transformed, using the u matrix to concept space. \n",
    "\n"
   ]
  },
  {
   "cell_type": "code",
   "execution_count": 51,
   "metadata": {},
   "outputs": [
    {
     "data": {
      "text/html": [
       "<div>\n",
       "<style scoped>\n",
       "    .dataframe tbody tr th:only-of-type {\n",
       "        vertical-align: middle;\n",
       "    }\n",
       "\n",
       "    .dataframe tbody tr th {\n",
       "        vertical-align: top;\n",
       "    }\n",
       "\n",
       "    .dataframe thead th {\n",
       "        text-align: right;\n",
       "    }\n",
       "</style>\n",
       "<table border=\"1\" class=\"dataframe\">\n",
       "  <thead>\n",
       "    <tr style=\"text-align: right;\">\n",
       "      <th></th>\n",
       "      <th>term</th>\n",
       "      <th>weight</th>\n",
       "    </tr>\n",
       "  </thead>\n",
       "  <tbody>\n",
       "    <tr>\n",
       "      <th>0</th>\n",
       "      <td>Drug Combinations</td>\n",
       "      <td>0.151087</td>\n",
       "    </tr>\n",
       "    <tr>\n",
       "      <th>1</th>\n",
       "      <td>Clinical Protocols</td>\n",
       "      <td>0.142580</td>\n",
       "    </tr>\n",
       "    <tr>\n",
       "      <th>2</th>\n",
       "      <td>Polymerase Chain Reaction</td>\n",
       "      <td>0.138619</td>\n",
       "    </tr>\n",
       "    <tr>\n",
       "      <th>3</th>\n",
       "      <td>Perception</td>\n",
       "      <td>0.135022</td>\n",
       "    </tr>\n",
       "    <tr>\n",
       "      <th>4</th>\n",
       "      <td>Drug Resistance, Multiple, Bacterial</td>\n",
       "      <td>0.132858</td>\n",
       "    </tr>\n",
       "    <tr>\n",
       "      <th>...</th>\n",
       "      <td>...</td>\n",
       "      <td>...</td>\n",
       "    </tr>\n",
       "    <tr>\n",
       "      <th>995</th>\n",
       "      <td>Prefrontal Cortex</td>\n",
       "      <td>-0.128673</td>\n",
       "    </tr>\n",
       "    <tr>\n",
       "      <th>996</th>\n",
       "      <td>Nerve Net</td>\n",
       "      <td>-0.132829</td>\n",
       "    </tr>\n",
       "    <tr>\n",
       "      <th>997</th>\n",
       "      <td>RNA-Binding Proteins</td>\n",
       "      <td>-0.133146</td>\n",
       "    </tr>\n",
       "    <tr>\n",
       "      <th>998</th>\n",
       "      <td>Referral and Consultation</td>\n",
       "      <td>-0.166455</td>\n",
       "    </tr>\n",
       "    <tr>\n",
       "      <th>999</th>\n",
       "      <td>Caspase 3</td>\n",
       "      <td>-0.177878</td>\n",
       "    </tr>\n",
       "  </tbody>\n",
       "</table>\n",
       "<p>1000 rows × 2 columns</p>\n",
       "</div>"
      ],
      "text/plain": [
       "                                     term    weight\n",
       "0                       Drug Combinations  0.151087\n",
       "1                      Clinical Protocols  0.142580\n",
       "2               Polymerase Chain Reaction  0.138619\n",
       "3                              Perception  0.135022\n",
       "4    Drug Resistance, Multiple, Bacterial  0.132858\n",
       "..                                    ...       ...\n",
       "995                     Prefrontal Cortex -0.128673\n",
       "996                             Nerve Net -0.132829\n",
       "997                  RNA-Binding Proteins -0.133146\n",
       "998             Referral and Consultation -0.166455\n",
       "999                             Caspase 3 -0.177878\n",
       "\n",
       "[1000 rows x 2 columns]"
      ]
     },
     "execution_count": 51,
     "metadata": {},
     "output_type": "execute_result"
    }
   ],
   "source": [
    "# Choose a top term not already chosen by going down the list. \n",
    "def choose_top_term(current_ranked_terms, existing_terms):\n",
    "    term_in = 0\n",
    "    top_term = current_ranked_terms[term_in]\n",
    "    rejects = []\n",
    "    while top_term in existing_terms:\n",
    "        term_in += 1\n",
    "        rejects.append([f'Rejected {top_term}', term_in])\n",
    "        top_term = current_ranked_terms[term_in]\n",
    "    return top_term, rejects\n",
    "\n",
    "def one_component_terms(k, U_df, s):\n",
    "    'k := the index of the component, equivalently the column'\n",
    "    a_column = s[k] * U_df.iloc[:,k]\n",
    "    a_column.sort_values(inplace=True, ascending=False)\n",
    "    a_column = a_column.reset_index()\n",
    "    a_column.columns = ['term', 'weight']\n",
    "    return a_column.sort_index()\n",
    "\n",
    "x_oct = one_component_terms(119, u_df, s)\n",
    "x_oct"
   ]
  },
  {
   "cell_type": "markdown",
   "metadata": {},
   "source": [
    "### \"Taboo\" listings of prominent component mesh terms.\n",
    "\n",
    "Take the columns of the concept vectors with non-zero s values, sort the vector by coefficients to get those mesh terms most characteristic of each concept. Going down the list of s values, when a concept vector's top mesh term repeats one already assigned to a previous concept, take the top un-used mesh term instead.\n",
    "\n",
    "The less repetition of the primary couple of mesh terms among components, the better.  So each component has a unique mesh term associated with it by disqualifying any term already associated with a component with a higher ranked singular value. "
   ]
  },
  {
   "cell_type": "code",
   "execution_count": null,
   "metadata": {},
   "outputs": [],
   "source": [
    "# Check how many duplicates among the top ranked mesh terms. \n",
    "# Create a data structure of ranked components. \n",
    "# First create a multi-index\n",
    "sorted_mesh_term_weight_in = pd.MultiIndex.from_product([[f'sv_{n:.4}-{m}' for m, n in enumerate(s)], ['term', 'weight']], names = ['s-value', 'ranking'])\n",
    "\n",
    "ranked_component = pd.DataFrame(index = range(row_count), columns=sorted_mesh_term_weight_in)\n",
    "ranked_component = ranked_component.sort_index()\n",
    "top_meshterm = [] # column_count * [None]\n",
    "rejections = []\n",
    "\n",
    "for j in range(column_count):\n",
    "    # \n",
    "    component_in = sorted_mesh_term_weight_in[2*j][0]\n",
    "    print(j, component_in)\n",
    "    one_c = one_component_terms(j, u_df, s)\n",
    "    \n",
    "    top_term, r = choose_top_term(one_c['term'], top_meshterm )\n",
    "    # Keep a record of which concepts have rejected top mesh terms. \n",
    "    rejection_cnt = len(r) \n",
    "    if rejection_cnt > 0:\n",
    "        r.insert(0, j)\n",
    "        rejections.append (r)\n",
    "    while rejection_cnt > 0:\n",
    "        one_c['term'][rejection_cnt-1] = None\n",
    "        rejection_cnt -= 1\n",
    "    ranked_component[component_in] = one_c\n",
    "    top_meshterm.append(top_term)"
   ]
  },
  {
   "cell_type": "code",
   "execution_count": 54,
   "metadata": {},
   "outputs": [],
   "source": [
    "# Save the ranked components\n",
    "ranked_c_table = pa.Table.from_pandas(ranked_component)\n",
    "pq.write_table(ranked_c_table, 'ranked_component.parquet')"
   ]
  },
  {
   "cell_type": "code",
   "execution_count": 55,
   "metadata": {},
   "outputs": [],
   "source": [
    "# Save the list of rejected terms\n",
    "with open('rejection_list.txt', 'w') as f:\n",
    "    print(rejections, file=f,)\n",
    "with open('top_meshterms_list.txt', 'w') as f:\n",
    "    print(top_meshterm, file=f,)"
   ]
  },
  {
   "cell_type": "code",
   "execution_count": 57,
   "metadata": {},
   "outputs": [
    {
     "data": {
      "text/plain": [
       "380"
      ]
     },
     "execution_count": 57,
     "metadata": {},
     "output_type": "execute_result"
    }
   ],
   "source": [
    "# How many times does a top -ranked meshterm re-appear?\n",
    "# A lot it turns out. \n",
    "len(rejections)"
   ]
  }
 ],
 "metadata": {
  "kernelspec": {
   "display_name": ".venv",
   "language": "python",
   "name": "python3"
  },
  "language_info": {
   "codemirror_mode": {
    "name": "ipython",
    "version": 3
   },
   "file_extension": ".py",
   "mimetype": "text/x-python",
   "name": "python",
   "nbconvert_exporter": "python",
   "pygments_lexer": "ipython3",
   "version": "3.12.4"
  }
 },
 "nbformat": 4,
 "nbformat_minor": 2
}
